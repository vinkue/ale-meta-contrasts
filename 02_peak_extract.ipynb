{
 "cells": [
  {
   "cell_type": "markdown",
   "id": "a1467cc4-ebd8-46b1-8718-f13729f5f427",
   "metadata": {},
   "source": [
    "# Extract peaks and apply cluster extent threshold\n",
    "using FSLs `cluster` (ID: 6.0.5:9e026117)  \n",
    "output is in `{dataset}/evaluation/output_clusterize` - needed for comparison of maps"
   ]
  },
  {
   "cell_type": "code",
   "execution_count": null,
   "id": "51326b74-8492-48c7-b902-21f99c0a37bc",
   "metadata": {},
   "outputs": [],
   "source": [
    "import os\n",
    "import glob\n",
    "import subprocess\n",
    "\n",
    "# set global parameter\n",
    "thresh = 1.644854\n",
    "num_peaks = 100000 #to capture all peaks\n",
    "min_ext = 5 #cluster extent threshold\n",
    "peak_dist = 8 #min distance between peaks\n",
    "\n",
    "def clusterize(dataset):\n",
    "    base_dir = os.path.abspath(f'/Users/vkueppers/meta/cmeta_val/output/{dataset}')\n",
    "    main_effect_dir = os.path.join(base_dir, 'Results/MainEffect/Full/Volumes/Corrected/')\n",
    "    contr_dir = os.path.join(base_dir, 'Results/Contrast/Full/')\n",
    "\n",
    "    output_dir = os.path.join(base_dir, 'evaluation/output_clusterize/')\n",
    "    if not os.path.exists(output_dir):\n",
    "        os.makedirs(output_dir)\n",
    "\n",
    "    def _cluster_command():\n",
    "        file_name = file.removesuffix('.nii')\n",
    "        othresh_ = os.path.join(output_dir, f'{file_name}.nii.gz')\n",
    "        oindex_ = os.path.join(output_dir, f'{file_name}_clusteroutput.nii.gz')\n",
    "        olmax_ = os.path.join(output_dir, f'{file_name}_localmaxima.txt')\n",
    "        subprocess.run(['cluster',\n",
    "                        f'--in={file_dir}',\n",
    "                        f'--thresh={thresh}',\n",
    "                        f'--num={num_peaks}',\n",
    "                        f'--minextent={min_ext}',\n",
    "                        f'--peakdist={peak_dist}',\n",
    "                        '--mm',\n",
    "                        f'--othresh={othresh_}',\n",
    "                        f'--oindex={oindex_}',\n",
    "                        f'--olmax={olmax_}',\n",
    "                        '--no_table'])\n",
    "\n",
    "    for file in os.listdir(main_effect_dir):\n",
    "        if file.endswith('_cFWE05.nii'):\n",
    "            file_dir = os.path.join(main_effect_dir, file)\n",
    "            _cluster_command()\n",
    "\n",
    "    for file in os.listdir(contr_dir):\n",
    "        if file.endswith('_P95.nii'):\n",
    "            file_dir = os.path.join(contr_dir, file)\n",
    "            _cluster_command()\n"
   ]
  },
  {
   "cell_type": "code",
   "execution_count": null,
   "id": "09b0bdea-ce6b-4a8c-8849-13e8deb965e9",
   "metadata": {},
   "outputs": [],
   "source": [
    "datasets = ['stroop', 'n-back', 'emo-faces']\n",
    "for data in datasets:\n",
    "    clusterize(data)"
   ]
  },
  {
   "cell_type": "code",
   "execution_count": null,
   "id": "8d3d7e7d-881f-4f35-89da-d5eee282d51e",
   "metadata": {},
   "outputs": [],
   "source": []
  }
 ],
 "metadata": {
  "kernelspec": {
   "display_name": "similarity",
   "language": "python",
   "name": "similarity"
  },
  "language_info": {
   "codemirror_mode": {
    "name": "ipython",
    "version": 3
   },
   "file_extension": ".py",
   "mimetype": "text/x-python",
   "name": "python",
   "nbconvert_exporter": "python",
   "pygments_lexer": "ipython3",
   "version": "3.9.16"
  }
 },
 "nbformat": 4,
 "nbformat_minor": 5
}
