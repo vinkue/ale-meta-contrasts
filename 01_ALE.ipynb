{
 "cells": [
  {
   "cell_type": "markdown",
   "id": "e77ae625-e8cd-4259-aaf7-d2cf38571568",
   "metadata": {},
   "source": [
    "# Run ALE\n",
    "using pyALE scripts `https://github.com/LenFrahm/pyALE` #03c7e65\n",
    "\n",
    "2022-02-21\n",
    "\n",
    "---"
   ]
  },
  {
   "cell_type": "code",
   "execution_count": null,
   "id": "e39d3f75-c4ec-4bd7-aac9-15a17210c766",
   "metadata": {},
   "outputs": [],
   "source": [
    "import os\n",
    "import sys\n",
    "module_path = os.path.abspath(os.path.join('./pyALE'))\n",
    "if module_path not in sys.path:\n",
    "    sys.path.append(module_path)"
   ]
  },
  {
   "cell_type": "code",
   "execution_count": null,
   "id": "480af263-4ba6-48c5-8600-0d51a07c2bbe",
   "metadata": {},
   "outputs": [],
   "source": [
    "from pyALE.nb_pipeline import setup, analysis\n",
    "\n",
    "# if TFCE should be included in the main effect analysis. very computationally expensive and does not give big benefits over cFWE.\n",
    "tfce_enabled=False\n",
    "\n",
    "# number of processes spawned when parallelizing. ideally should not exceed the amount of cores of the machine.\n",
    "nprocesses=8\n",
    "\n",
    "# amount of reptitions used for null distribution simulation (noise samples). Convergence starts at around 1000, recommended value = 10000\n",
    "# Used in all types of analysis\n",
    "null_repeats=10000\n",
    "\n",
    "# significance threshold used for cluster forming. recommended value = 0.001\n",
    "# Used in full MainEffect analysis\n",
    "cluster_thresh=0.001\n",
    "\n",
    "# Amount of samples taken from study population, recommended value = 2500\n",
    "# Used in probabilistic and balanced contrast\n",
    "sample_n=2500\n",
    "\n",
    "# Threshold used to compare differences against. recommended value = 0.05\n",
    "# Used in (\"legacy\") contrast\n",
    "diff_thresh=0.05\n",
    "\n",
    "# Whether or not the contrast is only calculated in areas, which are significant in the main_effect analysis\n",
    "# Used in (\"legacy\") contrast\n",
    "masking=True\n",
    "\n",
    "# Amount of sampling repititions used when comparing two subsampled ALEs. recommended value > 500\n",
    "# Used in balanced contrast\n",
    "# Note: As this difference permutation is performed inside of the null distribution simulation it gets repeated X (null_repeats) amount of times\n",
    "# - this can lead to a small increase in diff_repeats leading to a big increase in computation time\n",
    "diff_repeats=25000\n"
   ]
  },
  {
   "cell_type": "markdown",
   "id": "953c80c8-59c8-428d-aa5f-075344df44c7",
   "metadata": {},
   "source": [
    "## Stroop"
   ]
  },
  {
   "cell_type": "code",
   "execution_count": null,
   "id": "26c2ff9e-b427-4b37-a910-f7c0a769b376",
   "metadata": {
    "scrolled": true,
    "tags": []
   },
   "outputs": [],
   "source": [
    "path_stroop =  \"/Users/vkueppers/meta/cmeta_val/output/stroop\"\n",
    "analysis_info_stroop = \"stroop_analysis.xlsx\"\n",
    "experiment_info_stroop = \"stroop_coordinates.xlsx\"\n",
    "meta_df_stroop, exp_all_stroop, tasks_stroop = setup(path_stroop, analysis_info_stroop, experiment_info_stroop)\n",
    "\n",
    "analysis(path = path_stroop,\n",
    "         meta_df = meta_df_stroop,\n",
    "         exp_all = exp_all_stroop,\n",
    "         tasks = tasks_stroop,\n",
    "         tfce_enabled = tfce_enabled,\n",
    "         null_repeats = null_repeats,\n",
    "         cluster_thresh = cluster_thresh,\n",
    "         sample_n = sample_n,\n",
    "         diff_thresh = diff_thresh,\n",
    "         masking = masking,\n",
    "         diff_repeats = diff_repeats,\n",
    "         nprocesses = nprocesses)"
   ]
  },
  {
   "cell_type": "markdown",
   "id": "158c1eaf-13a8-4b81-b046-a863ea7a75be",
   "metadata": {},
   "source": [
    "---\n",
    "## N-back"
   ]
  },
  {
   "cell_type": "code",
   "execution_count": null,
   "id": "dbc74335-c6d0-4e6b-ba48-5f6cd55dda27",
   "metadata": {
    "scrolled": true,
    "tags": []
   },
   "outputs": [],
   "source": [
    "path_nb = \"/Users/vkueppers/meta/cmeta_val/output/n-back\"\n",
    "analysis_info_nb = \"n-back_analysis.xlsx\"\n",
    "experiment_info_nb = \"n-back_coordinates.xlsx\"\n",
    "meta_df_nb, exp_all_nb, tasks_nb = setup(path_nb, analysis_info_nb, experiment_info_nb)\n",
    "\n",
    "analysis(path = path_nb,\n",
    "         meta_df = meta_df_nb,\n",
    "         exp_all = exp_all_nb,\n",
    "         tasks = tasks_nb,\n",
    "         tfce_enabled = tfce_enabled,\n",
    "         null_repeats = null_repeats,\n",
    "         cluster_thresh = cluster_thresh,\n",
    "         sample_n = sample_n,\n",
    "         diff_thresh = diff_thresh,\n",
    "         masking = masking,\n",
    "         diff_repeats = diff_repeats,\n",
    "         nprocesses = nprocesses)"
   ]
  },
  {
   "cell_type": "markdown",
   "id": "20a0740c-512a-4752-ac86-fd63dbe9924e",
   "metadata": {},
   "source": [
    "---\n",
    "## Emotional-faces"
   ]
  },
  {
   "cell_type": "code",
   "execution_count": null,
   "id": "4b0ee348-643f-4c89-8aa5-10d11e757f1b",
   "metadata": {
    "scrolled": true,
    "tags": []
   },
   "outputs": [],
   "source": [
    "path_emo = \"/Users/vkueppers/meta/cmeta_val/output/emo-faces\"\n",
    "analysis_info_emo = \"emo-faces_analysis.xlsx\"\n",
    "experiment_info_emo = \"emo-faces_coordinates.xlsx\"\n",
    "meta_df_emo, exp_all_emo, tasks_emo = setup(path_emo, analysis_info_emo, experiment_info_emo)\n",
    "\n",
    "analysis(path = path_emo,\n",
    "         meta_df = meta_df_emo,\n",
    "         exp_all = exp_all_emo,\n",
    "         tasks = tasks_emo,\n",
    "         tfce_enabled = tfce_enabled,\n",
    "         null_repeats = null_repeats,\n",
    "         cluster_thresh = cluster_thresh,\n",
    "         sample_n = sample_n,\n",
    "         diff_thresh = diff_thresh,\n",
    "         masking = masking,\n",
    "         diff_repeats = diff_repeats,\n",
    "         nprocesses = nprocesses)"
   ]
  },
  {
   "cell_type": "code",
   "execution_count": null,
   "id": "5bb17263-b1f7-4b87-8575-40fdf20bbb9c",
   "metadata": {},
   "outputs": [],
   "source": []
  }
 ],
 "metadata": {
  "kernelspec": {
   "display_name": "pyALE",
   "language": "python",
   "name": "pyale"
  },
  "language_info": {
   "codemirror_mode": {
    "name": "ipython",
    "version": 3
   },
   "file_extension": ".py",
   "mimetype": "text/x-python",
   "name": "python",
   "nbconvert_exporter": "python",
   "pygments_lexer": "ipython3",
   "version": "3.9.16"
  }
 },
 "nbformat": 4,
 "nbformat_minor": 5
}
